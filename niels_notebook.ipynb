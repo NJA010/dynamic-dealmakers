{
 "cells": [
  {
   "cell_type": "code",
   "execution_count": 5,
   "metadata": {},
   "outputs": [
    {
     "name": "stdout",
     "output_type": "stream",
     "text": [
      "The autoreload extension is already loaded. To reload it, use:\n",
      "  %reload_ext autoreload\n"
     ]
    }
   ],
   "source": [
    "%load_ext autoreload\n",
    "\n",
    "%autoreload 2\n",
    "\n",
    "%reload_ext dotenv\n",
    "%dotenv .env"
   ]
  },
  {
   "cell_type": "code",
   "execution_count": 24,
   "metadata": {},
   "outputs": [],
   "source": [
    "import os\n",
    "\n",
    "import requests\n",
    "import google.auth.transport.requests\n",
    "import google.oauth2.id_token"
   ]
  },
  {
   "cell_type": "code",
   "execution_count": 26,
   "metadata": {},
   "outputs": [
    {
     "ename": "DefaultCredentialsError",
     "evalue": "Neither metadata server or valid service account credentials are found.",
     "output_type": "error",
     "traceback": [
      "\u001b[0;31m---------------------------------------------------------------------------\u001b[0m",
      "\u001b[0;31mDefaultCredentialsError\u001b[0m                   Traceback (most recent call last)",
      "Cell \u001b[0;32mIn[26], line 12\u001b[0m\n\u001b[1;32m      9\u001b[0m audience \u001b[38;5;241m=\u001b[39m \u001b[38;5;124m\"\u001b[39m\u001b[38;5;124mhttps://api-4q7cwzagvq-ez.a.run.app\u001b[39m\u001b[38;5;124m\"\u001b[39m\n\u001b[1;32m     10\u001b[0m api_key \u001b[38;5;241m=\u001b[39m os\u001b[38;5;241m.\u001b[39mgetenv(\u001b[38;5;124m\"\u001b[39m\u001b[38;5;124mSERVER_KEY\u001b[39m\u001b[38;5;124m\"\u001b[39m)\n\u001b[0;32m---> 12\u001b[0m headers \u001b[38;5;241m=\u001b[39m \u001b[43mget_requests_headers\u001b[49m\u001b[43m(\u001b[49m\u001b[43mapi_key\u001b[49m\u001b[43m)\u001b[49m\n\u001b[1;32m     13\u001b[0m headers\n",
      "Cell \u001b[0;32mIn[26], line 3\u001b[0m, in \u001b[0;36mget_requests_headers\u001b[0;34m(api_key)\u001b[0m\n\u001b[1;32m      1\u001b[0m \u001b[38;5;28;01mdef\u001b[39;00m \u001b[38;5;21mget_requests_headers\u001b[39m(api_key):\n\u001b[1;32m      2\u001b[0m     auth_req \u001b[38;5;241m=\u001b[39m google\u001b[38;5;241m.\u001b[39mauth\u001b[38;5;241m.\u001b[39mtransport\u001b[38;5;241m.\u001b[39mrequests\u001b[38;5;241m.\u001b[39mRequest()\n\u001b[0;32m----> 3\u001b[0m     id_token \u001b[38;5;241m=\u001b[39m \u001b[43mgoogle\u001b[49m\u001b[38;5;241;43m.\u001b[39;49m\u001b[43moauth2\u001b[49m\u001b[38;5;241;43m.\u001b[39;49m\u001b[43mid_token\u001b[49m\u001b[38;5;241;43m.\u001b[39;49m\u001b[43mfetch_id_token\u001b[49m\u001b[43m(\u001b[49m\u001b[43mauth_req\u001b[49m\u001b[43m,\u001b[49m\u001b[43m \u001b[49m\u001b[43maudience\u001b[49m\u001b[43m)\u001b[49m\n\u001b[1;32m      5\u001b[0m     \u001b[38;5;28;01mreturn\u001b[39;00m {\n\u001b[1;32m      6\u001b[0m         \u001b[38;5;124m\"\u001b[39m\u001b[38;5;124mX-API-KEY\u001b[39m\u001b[38;5;124m\"\u001b[39m: api_key,\n\u001b[1;32m      7\u001b[0m         \u001b[38;5;124m\"\u001b[39m\u001b[38;5;124mAuthorization\u001b[39m\u001b[38;5;124m\"\u001b[39m: \u001b[38;5;124mf\u001b[39m\u001b[38;5;124m\"\u001b[39m\u001b[38;5;124mBearer \u001b[39m\u001b[38;5;132;01m{\u001b[39;00mid_token\u001b[38;5;132;01m}\u001b[39;00m\u001b[38;5;124m\"\u001b[39m,\n\u001b[1;32m      8\u001b[0m     }\n",
      "File \u001b[0;32m~/.pyenv/versions/3.11.4/envs/price/lib/python3.11/site-packages/google/oauth2/id_token.py:338\u001b[0m, in \u001b[0;36mfetch_id_token\u001b[0;34m(request, audience)\u001b[0m\n\u001b[1;32m    300\u001b[0m \u001b[38;5;28;01mdef\u001b[39;00m \u001b[38;5;21mfetch_id_token\u001b[39m(request, audience):\n\u001b[1;32m    301\u001b[0m \u001b[38;5;250m    \u001b[39m\u001b[38;5;124;03m\"\"\"Fetch the ID Token from the current environment.\u001b[39;00m\n\u001b[1;32m    302\u001b[0m \n\u001b[1;32m    303\u001b[0m \u001b[38;5;124;03m    This function acquires ID token from the environment in the following order.\u001b[39;00m\n\u001b[0;32m   (...)\u001b[0m\n\u001b[1;32m    336\u001b[0m \u001b[38;5;124;03m            credentials are found.\u001b[39;00m\n\u001b[1;32m    337\u001b[0m \u001b[38;5;124;03m    \"\"\"\u001b[39;00m\n\u001b[0;32m--> 338\u001b[0m     id_token_credentials \u001b[38;5;241m=\u001b[39m \u001b[43mfetch_id_token_credentials\u001b[49m\u001b[43m(\u001b[49m\u001b[43maudience\u001b[49m\u001b[43m,\u001b[49m\u001b[43m \u001b[49m\u001b[43mrequest\u001b[49m\u001b[38;5;241;43m=\u001b[39;49m\u001b[43mrequest\u001b[49m\u001b[43m)\u001b[49m\n\u001b[1;32m    339\u001b[0m     id_token_credentials\u001b[38;5;241m.\u001b[39mrefresh(request)\n\u001b[1;32m    340\u001b[0m     \u001b[38;5;28;01mreturn\u001b[39;00m id_token_credentials\u001b[38;5;241m.\u001b[39mtoken\n",
      "File \u001b[0;32m~/.pyenv/versions/3.11.4/envs/price/lib/python3.11/site-packages/google/oauth2/id_token.py:295\u001b[0m, in \u001b[0;36mfetch_id_token_credentials\u001b[0;34m(audience, request)\u001b[0m\n\u001b[1;32m    292\u001b[0m \u001b[38;5;28;01mexcept\u001b[39;00m (\u001b[38;5;167;01mImportError\u001b[39;00m, exceptions\u001b[38;5;241m.\u001b[39mTransportError):\n\u001b[1;32m    293\u001b[0m     \u001b[38;5;28;01mpass\u001b[39;00m\n\u001b[0;32m--> 295\u001b[0m \u001b[38;5;28;01mraise\u001b[39;00m exceptions\u001b[38;5;241m.\u001b[39mDefaultCredentialsError(\n\u001b[1;32m    296\u001b[0m     \u001b[38;5;124m\"\u001b[39m\u001b[38;5;124mNeither metadata server or valid service account credentials are found.\u001b[39m\u001b[38;5;124m\"\u001b[39m\n\u001b[1;32m    297\u001b[0m )\n",
      "\u001b[0;31mDefaultCredentialsError\u001b[0m: Neither metadata server or valid service account credentials are found."
     ]
    }
   ],
   "source": [
    "def get_requests_headers(api_key):\n",
    "    auth_req = google.auth.transport.requests.Request()\n",
    "    id_token = google.oauth2.id_token.fetch_id_token(auth_req, audience)\n",
    "\n",
    "    return {\n",
    "        \"X-API-KEY\": api_key,\n",
    "        \"Authorization\": f\"Bearer {id_token}\",\n",
    "    }\n",
    "audience = \"https://api-4q7cwzagvq-ez.a.run.app\"\n",
    "api_key = os.getenv(\"SERVER_KEY\")\n",
    "\n",
    "headers = get_requests_headers(api_key)\n",
    "headers"
   ]
  },
  {
   "cell_type": "code",
   "execution_count": null,
   "metadata": {},
   "outputs": [],
   "source": []
  }
 ],
 "metadata": {
  "kernelspec": {
   "display_name": "Python 3 (ipykernel)",
   "language": "python",
   "name": "python3"
  },
  "language_info": {
   "codemirror_mode": {
    "name": "ipython",
    "version": 3
   },
   "file_extension": ".py",
   "mimetype": "text/x-python",
   "name": "python",
   "nbconvert_exporter": "python",
   "pygments_lexer": "ipython3",
   "version": "3.11.4"
  }
 },
 "nbformat": 4,
 "nbformat_minor": 4
}
